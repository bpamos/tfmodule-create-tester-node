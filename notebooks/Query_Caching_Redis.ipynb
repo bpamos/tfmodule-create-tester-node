{
 "cells": [
  {
   "cell_type": "code",
   "execution_count": 1,
   "id": "eb43324d",
   "metadata": {},
   "outputs": [],
   "source": [
    "### QUERY CACHING WITH REDIS"
   ]
  },
  {
   "cell_type": "code",
   "execution_count": 145,
   "id": "254f280a",
   "metadata": {},
   "outputs": [],
   "source": [
    "# Import the necessary libraries\n",
    "import mysql.connector\n",
    "import redis\n",
    "import hashlib\n",
    "import pickle\n",
    "import random"
   ]
  },
  {
   "cell_type": "markdown",
   "id": "f6f7a751",
   "metadata": {},
   "source": [
    "## Query Caching Function"
   ]
  },
  {
   "cell_type": "code",
   "execution_count": 146,
   "id": "84dea936",
   "metadata": {},
   "outputs": [],
   "source": [
    "# Define a function to execute a SQL query and cache it in Redis\n",
    "\n",
    "def execute_query(query):\n",
    "  # First, check if the query has been previously executed and the result is in the cache\n",
    "    query_hash = hashlib.sha1(query.encode()).hexdigest()\n",
    "    if query_hash in cache:\n",
    "        print(\"Retrieving result from cache\")\n",
    "        # Deserialize the result from the cache\n",
    "        result = pickle.loads(r.get(query_hash))\n",
    "        #print(result)\n",
    "        return result\n",
    "    \n",
    "    # If the query has not been previously executed, execute it now\n",
    "    #print(\"Executing query\")\n",
    "    cursor = conn.cursor()\n",
    "    cursor.execute(query)\n",
    "    result = cursor.fetchall()\n",
    "    \n",
    "    # Serialize the result before storing it in the cache using Redis\n",
    "    #result_str = pickle.dumps(result)\n",
    "    #print(result_str)\n",
    "    #r.set(query_hash, result_str)\n",
    "    \n",
    "    \n",
    "    # Create a pipeline object\n",
    "    pipeline = r.pipeline()\n",
    "    \n",
    "    # Use the pipeline to set the query result in the cache\n",
    "    pipeline.set(query_hash, pickle.dumps(result))\n",
    "    # Set a time to live for the string in the cache\n",
    "    pipeline.expire(query_hash, 600)\n",
    "    \n",
    "    # Execute the pipeline\n",
    "    pipeline.execute()\n",
    "    \n",
    "    \n",
    "    \n",
    "    # Set a time to live for the string in the cache\n",
    "    #r.expire(query_hash, 60)\n",
    "    \n",
    "    # Return the result of the query\n",
    "    return result"
   ]
  },
  {
   "cell_type": "markdown",
   "id": "1a8258db",
   "metadata": {},
   "source": [
    "## Connect to MySQL Db and Redis"
   ]
  },
  {
   "cell_type": "code",
   "execution_count": 147,
   "id": "d359704b",
   "metadata": {},
   "outputs": [],
   "source": [
    "# Create a connection to the database\n",
    "# connect to the MySQL server\n",
    "conn = mysql.connector.connect(\n",
    "                                user='admin', \n",
    "                                password='password',\n",
    "                                host='44.229.176.207',\n",
    "                                database='classicmodels'\n",
    "                                )\n",
    "\n",
    "\n",
    "# Create a connection to the Redis server\n",
    "r = redis.Redis(host=\"redis-11919.bamos-west.demo.redislabs.com\", port=11919)"
   ]
  },
  {
   "cell_type": "markdown",
   "id": "dd469f6d",
   "metadata": {},
   "source": [
    "### Query Generator"
   ]
  },
  {
   "cell_type": "code",
   "execution_count": 148,
   "id": "4ccf0f1e",
   "metadata": {},
   "outputs": [
    {
     "name": "stdout",
     "output_type": "stream",
     "text": [
      "['SELECT c.customerNumber, c.customerName, c.contactLastName, c.contactFirstName, c.phone, c.addressLine1, c.addressLine2, c.city, c.state, c.postalCode, c.country, c.salesRepEmployeeNumber, c.creditLimit, o.orderNumber, o.orderDate, o.requiredDate, o.shippedDate, o.status, o.comments, o.customerNumber FROM customers c LEFT JOIN orders o ON c.customerNumber = o.customerNumber WHERE o.orderNumber > 10177 AND o.orderNumber < 10285 LIMIT 168 ;', 'SELECT c.customerNumber, c.addressLine2, o.orderNumber, o.customerNumber FROM customers c LEFT JOIN orders o ON c.customerNumber = o.customerNumber WHERE o.orderNumber > 10234 AND o.orderNumber < 10274 LIMIT 158 ;', 'SELECT c.customerNumber, c.postalCode, o.orderNumber, o.customerNumber FROM customers c LEFT JOIN orders o ON c.customerNumber = o.customerNumber WHERE o.orderNumber > 10226 AND o.orderNumber < 10302 LIMIT 190 ;', 'SELECT c.customerNumber, c.customerName, o.orderNumber, o.customerNumber FROM customers c LEFT JOIN orders o ON c.customerNumber = o.customerNumber WHERE o.orderNumber > 10206 AND o.orderNumber < 10316 LIMIT 107 ;', 'SELECT c.customerNumber, o.orderNumber, o.shippedDate, o.customerNumber FROM customers c LEFT JOIN orders o ON c.customerNumber = o.customerNumber WHERE o.orderNumber > 10135 AND o.orderNumber < 10288 LIMIT 95 ;']\n",
      "1000\n"
     ]
    }
   ],
   "source": [
    "# define the query with placeholders for the dynamic values\n",
    "query = \"\"\"\n",
    "    SELECT \n",
    "        c.customerNumber,\n",
    "        c.customerName,\n",
    "        c.contactLastName,\n",
    "        c.contactFirstName,\n",
    "        c.phone,\n",
    "        c.addressLine1,\n",
    "        c.addressLine2,\n",
    "        c.city,\n",
    "        c.state,\n",
    "        c.postalCode,\n",
    "        c.country,\n",
    "        c.salesRepEmployeeNumber,\n",
    "        c.creditLimit,\n",
    "        o.orderNumber,\n",
    "        o.orderDate,\n",
    "        o.requiredDate,\n",
    "        o.shippedDate,\n",
    "        o.status,\n",
    "        o.comments,\n",
    "        o.customerNumber\n",
    "    FROM\n",
    "    customers c\n",
    "LEFT JOIN orders o \n",
    "    ON c.customerNumber = o.customerNumber\n",
    "    WHERE\n",
    "    o.orderNumber > {} AND o.orderNumber < {}\n",
    "    LIMIT {}\n",
    "    ;\n",
    "\"\"\"\n",
    "\n",
    "# create an empty list for the formatted queries\n",
    "formatted_queries = []\n",
    "\n",
    "# loop n times\n",
    "for i in range(1000):\n",
    "    # generate a random integer for the creditlimit value\n",
    "    minOrderNumber = random.randint(10099, 10262)\n",
    "    maxOrderNumber = random.randint(10263, 10426)\n",
    "    limit          = random.randint(0, 326)\n",
    "\n",
    "    # format the query with the dynamic values\n",
    "    random_query = query.format(minOrderNumber, maxOrderNumber, limit)\n",
    "    \n",
    "    # define the list of fields to add or drop from the query\n",
    "    fields = [\n",
    "        \"c.customerName,\",\n",
    "        \"c.contactLastName,\",\n",
    "        \"c.contactFirstName,\",\n",
    "        \"c.phone,\",\n",
    "        \"c.addressLine1,\",\n",
    "        \"c.addressLine2,\",\n",
    "        \"c.city,\",\n",
    "        \"c.state,\",\n",
    "        \"c.postalCode,\",\n",
    "        \"c.country,\",\n",
    "        \"c.salesRepEmployeeNumber,\",\n",
    "        \"c.creditLimit,\",\n",
    "        \"o.orderDate,\",\n",
    "        \"o.requiredDate,\",\n",
    "        \"o.shippedDate,\",\n",
    "        \"o.status,\",\n",
    "        \"o.comments,\"\n",
    "    ]\n",
    "    \n",
    "    # generate a random number to determine whether to add or drop fields\n",
    "    rand = random.randint(0, 1)\n",
    "\n",
    "    # if the number is 0, drop a random field from the query\n",
    "    if rand == 0:\n",
    "        # choose a random field to drop\n",
    "        chosen_values = random.sample(fields,3)\n",
    "        # remove the field from the list of available fields\n",
    "        # Remove the chosen values from the list\n",
    "        for value in chosen_values:\n",
    "            fields.remove(value)\n",
    "            \n",
    "            # Remove values from query\n",
    "            for field in fields:\n",
    "                random_query = random_query.replace(field, \"\")\n",
    "        # remove white space        \n",
    "        formatted_query = \" \".join(random_query.split())\n",
    "    else:\n",
    "        # else, use the random query\n",
    "        # remove white space \n",
    "        formatted_query = \" \".join(random_query.split())\n",
    "    \n",
    "    # append the formatted query to the list\n",
    "    formatted_queries.append(formatted_query)\n",
    "\n",
    "print(formatted_queries[0:5])\n",
    "print(len(formatted_queries))"
   ]
  },
  {
   "cell_type": "markdown",
   "id": "5d55009e",
   "metadata": {},
   "source": [
    "## Run Queries Through Cache Function"
   ]
  },
  {
   "cell_type": "code",
   "execution_count": 149,
   "id": "c5c6d625",
   "metadata": {},
   "outputs": [
    {
     "name": "stdout",
     "output_type": "stream",
     "text": [
      "new\n"
     ]
    }
   ],
   "source": [
    "# Create a cache to store the results of previous queries\n",
    "cache = {}\n",
    "\n",
    "# loop n times\n",
    "for i in range(1000):\n",
    "\n",
    "    chosen_query = random.choice(formatted_queries)\n",
    "\n",
    "    result = execute_query(chosen_query)\n",
    "    #print(result)\n",
    "\n",
    "print('new')\n",
    "# loop n times\n",
    "for i in range(1000):\n",
    "\n",
    "    chosen_query = random.choice(formatted_queries)\n",
    "\n",
    "    result = execute_query(chosen_query)\n",
    "    #print(result)"
   ]
  },
  {
   "cell_type": "code",
   "execution_count": null,
   "id": "685af778",
   "metadata": {},
   "outputs": [],
   "source": []
  },
  {
   "cell_type": "code",
   "execution_count": null,
   "id": "47503d0b",
   "metadata": {},
   "outputs": [],
   "source": []
  },
  {
   "cell_type": "code",
   "execution_count": null,
   "id": "4c4a8304",
   "metadata": {},
   "outputs": [],
   "source": []
  },
  {
   "cell_type": "code",
   "execution_count": null,
   "id": "25ebe324",
   "metadata": {},
   "outputs": [],
   "source": []
  }
 ],
 "metadata": {
  "kernelspec": {
   "display_name": "Python 3 (ipykernel)",
   "language": "python",
   "name": "python3"
  },
  "language_info": {
   "codemirror_mode": {
    "name": "ipython",
    "version": 3
   },
   "file_extension": ".py",
   "mimetype": "text/x-python",
   "name": "python",
   "nbconvert_exporter": "python",
   "pygments_lexer": "ipython3",
   "version": "3.8.2"
  }
 },
 "nbformat": 4,
 "nbformat_minor": 5
}
